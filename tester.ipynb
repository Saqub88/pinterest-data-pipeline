{
 "cells": [
  {
   "cell_type": "code",
   "execution_count": 1,
   "metadata": {},
   "outputs": [
    {
     "ename": "ModuleNotFoundError",
     "evalue": "No module named 'pandas'",
     "output_type": "error",
     "traceback": [
      "\u001b[1;31m---------------------------------------------------------------------------\u001b[0m",
      "\u001b[1;31mModuleNotFoundError\u001b[0m                       Traceback (most recent call last)",
      "\u001b[1;32mc:\\Users\\Saqub\\OneDrive\\Desktop\\Pinterest Pipeline Project\\tester.ipynb Cell 1\u001b[0m line \u001b[0;36m1\n\u001b[1;32m----> <a href='vscode-notebook-cell:/c%3A/Users/Saqub/OneDrive/Desktop/Pinterest%20Pipeline%20Project/tester.ipynb#W0sZmlsZQ%3D%3D?line=0'>1</a>\u001b[0m \u001b[39mimport\u001b[39;00m \u001b[39mpandas\u001b[39;00m \u001b[39mas\u001b[39;00m \u001b[39mpd\u001b[39;00m\n\u001b[0;32m      <a href='vscode-notebook-cell:/c%3A/Users/Saqub/OneDrive/Desktop/Pinterest%20Pipeline%20Project/tester.ipynb#W0sZmlsZQ%3D%3D?line=1'>2</a>\u001b[0m \u001b[39mfrom\u001b[39;00m \u001b[39mpyspark\u001b[39;00m\u001b[39m.\u001b[39;00m\u001b[39msql\u001b[39;00m \u001b[39mimport\u001b[39;00m SparkSession\n\u001b[0;32m      <a href='vscode-notebook-cell:/c%3A/Users/Saqub/OneDrive/Desktop/Pinterest%20Pipeline%20Project/tester.ipynb#W0sZmlsZQ%3D%3D?line=2'>3</a>\u001b[0m spark \u001b[39m=\u001b[39m SparkSession\u001b[39m.\u001b[39mbuilder\u001b[39m.\u001b[39mgetOrCreate()\n",
      "\u001b[1;31mModuleNotFoundError\u001b[0m: No module named 'pandas'"
     ]
    }
   ],
   "source": [
    "import pandas as pd\n",
    "from pyspark.sql import SparkSession\n",
    "spark = SparkSession.builder.getOrCreate()"
   ]
  },
  {
   "cell_type": "code",
   "execution_count": 2,
   "metadata": {},
   "outputs": [
    {
     "ename": "ModuleNotFoundError",
     "evalue": "No module named 'pyspark'",
     "output_type": "error",
     "traceback": [
      "\u001b[1;31m---------------------------------------------------------------------------\u001b[0m",
      "\u001b[1;31mModuleNotFoundError\u001b[0m                       Traceback (most recent call last)",
      "\u001b[1;32mc:\\Users\\Saqub\\OneDrive\\Desktop\\Pinterest Pipeline Project\\tester.ipynb Cell 2\u001b[0m line \u001b[0;36m2\n\u001b[0;32m      <a href='vscode-notebook-cell:/c%3A/Users/Saqub/OneDrive/Desktop/Pinterest%20Pipeline%20Project/tester.ipynb#W1sZmlsZQ%3D%3D?line=0'>1</a>\u001b[0m \u001b[39mimport\u001b[39;00m \u001b[39mpandas\u001b[39;00m \u001b[39mas\u001b[39;00m \u001b[39mpd\u001b[39;00m\n\u001b[1;32m----> <a href='vscode-notebook-cell:/c%3A/Users/Saqub/OneDrive/Desktop/Pinterest%20Pipeline%20Project/tester.ipynb#W1sZmlsZQ%3D%3D?line=1'>2</a>\u001b[0m \u001b[39mfrom\u001b[39;00m \u001b[39mpyspark\u001b[39;00m\u001b[39m.\u001b[39;00m\u001b[39msql\u001b[39;00m \u001b[39mimport\u001b[39;00m SparkSession\n",
      "\u001b[1;31mModuleNotFoundError\u001b[0m: No module named 'pyspark'"
     ]
    }
   ],
   "source": [
    "import pandas as pd\n",
    "from pyspark.sql import SparkSession"
   ]
  },
  {
   "cell_type": "code",
   "execution_count": null,
   "metadata": {},
   "outputs": [],
   "source": [
    "import yaml\n",
    "import sqlalchemy\n",
    "import pandas as pd\n",
    "\n",
    "from sqlalchemy import text\n",
    "\n",
    "with open('Sensitive data/db_credentials.yaml', 'r') as file:\n",
    "    credentials = yaml.safe_load(file)\n",
    "\n",
    "aws_engine = sqlalchemy.create_engine(\n",
    "            f\"mysql+pymysql://{credentials['USER']}\"\n",
    "            f\":{credentials['PASSWORD']}\"\n",
    "            f\"@{credentials['HOST']}\"\n",
    "            f\":{credentials['PORT']}\"\n",
    "            f\"/{credentials['DATABASE']}?charset=utf8mb4\"\n",
    "        )\n",
    "\n",
    "def return_table(sql_querry):\n",
    "    with aws_engine.connect() as connection:\n",
    "        querry = text(sql_querry)\n",
    "        table = connection.execute(querry)\n",
    "        df = pd.DataFrame(table)\n",
    "        return spark.createDataFrame(df)"
   ]
  },
  {
   "cell_type": "code",
   "execution_count": null,
   "metadata": {},
   "outputs": [],
   "source": [
    "pin_df = return_table(\"SELECT * FROM pinterest_data\")"
   ]
  },
  {
   "cell_type": "code",
   "execution_count": null,
   "metadata": {},
   "outputs": [],
   "source": [
    "geo_df = return_table(\"SELECT * FROM geolocation_data\")"
   ]
  },
  {
   "cell_type": "code",
   "execution_count": null,
   "metadata": {},
   "outputs": [],
   "source": [
    "user_df = return_table(\"SELECT * FROM user_data\")"
   ]
  },
  {
   "cell_type": "code",
   "execution_count": null,
   "metadata": {},
   "outputs": [],
   "source": [
    "pin_df_null_descriptions = pin_df.replace(['No description available Story format', 'User Info Error', 'Image src error.', 'N,o, ,T,a,g,s, ,A,v,a,i,l,a,b,l,e', 'No Title Data Available', 'Untitled', 'multi-video(story page format)'], None)\n",
    "pin_df_null_values = pin_df_null_descriptions.replace(0, None, subset=['downloaded'])\n",
    "from pyspark.sql.functions import regexp_replace\n",
    "pin_df_follower_count_k = pin_df_null_values.withColumn(\"follower_count\", regexp_replace(\"follower_count\", \"k\", \"000\"))\n",
    "pin_df_follower_count_m = pin_df_follower_count_k.withColumn(\"follower_count\", regexp_replace(\"follower_count\", \"M\", \"000000\"))\n",
    "pin_df_fc_datatype_int = pin_df_follower_count_m.withColumn(\"follower_count\", pin_df_follower_count_m[\"follower_count\"].cast(\"integer\"))\n",
    "pin_df_ind_datatype_int = pin_df_fc_datatype_int.withColumn(\"index\", pin_df_follower_count_m[\"index\"].cast(\"integer\"))\n",
    "pin_df_localsave_clean = pin_df_ind_datatype_int.withColumn(\"save_location\", regexp_replace(\"save_location\", \"Local save in \", \"\"))\n",
    "df_pin_rename_column = pin_df_localsave_clean.withColumnRenamed(\"index\", \"ind\")\n",
    "df_pin_clean = df_pin_rename_column.select(\"ind\", \"unique_id\", \"title\", \"description\", \"follower_count\", \"poster_name\", \"tag_list\", \"is_image_or_video\", \"image_src\", \"save_location\", \"category\")\n"
   ]
  },
  {
   "cell_type": "code",
   "execution_count": null,
   "metadata": {},
   "outputs": [
    {
     "name": "stdout",
     "output_type": "stream",
     "text": [
      "+---+--------------------+--------------------+--------------------+--------------+--------------------+--------------------+-----------------+--------------------+-------------+--------+\n",
      "|ind|           unique_id|               title|         description|follower_count|         poster_name|            tag_list|is_image_or_video|           image_src|save_location|category|\n",
      "+---+--------------------+--------------------+--------------------+--------------+--------------------+--------------------+-----------------+--------------------+-------------+--------+\n",
      "|  0|31af679a-6e4f-426...|Vanessa-Stockard-...|Few would argue i...|       2000000|         Bored Panda|Pretty Art,Cute A...|            image|https://i.pinimg....|    /data/art|     art|\n",
      "|  1|79dbcedb-4f96-4fc...|Meet The Enigmati...|This Turkish, Ist...|       2000000|         Bored Panda|Surealism Art,Sur...|            image|https://i.pinimg....|    /data/art|     art|\n",
      "|  2|f0c7a5c5-9a0a-478...|Art Colorful Feat...|Challenging socie...|       7000000|         HonestlyWTF|Small Canvas Art,...|            image|https://i.pinimg....|    /data/art|     art|\n",
      "|  3|b642405e-6f0d-41b...|Porsche Panic 77 ...|Porsche Panic 77 ...|           159|Jacqueline MB Des...|Safe Storage,Puzz...|            image|https://i.pinimg....|    /data/art|     art|\n",
      "|  4|55abcd28-bda1-445...|Mexican Artist Us...|Mexican artist En...|       2000000|         Bored Panda|Girl Drawing Sket...|            image|https://i.pinimg....|    /data/art|     art|\n",
      "|  5|08fabbb2-8b80-41e...|Bulgarian Artist ...|It doesn't matter...|       2000000|         Bored Panda|Girl Drawing Sket...|            image|https://i.pinimg....|    /data/art|     art|\n",
      "|  6|f8732a1c-d944-482...|Japanese Artist D...|Every artist has ...|       2000000|         Bored Panda|Watercolor Painti...|            image|https://i.pinimg....|    /data/art|     art|\n",
      "|  7|311f44ed-6360-41f...|DIY Large Scale M...|Make your own mod...|         39000|      Refresh Living|Textured Canvas A...|            video|https://i.pinimg....|    /data/art|     art|\n",
      "|  8|8e75ccf1-915a-49d...|Californian Artis...|Californian artis...|       2000000|         Bored Panda|Art Sketches,Art ...|            image|https://i.pinimg....|    /data/art|     art|\n",
      "|  9|690d1efb-f139-48c...|In The Studio Wit...|Ekaterina Popova ...|         10000|   Creative Founders|Art Inspo,Paintin...|            image|https://i.pinimg....|    /data/art|     art|\n",
      "| 10|7dc27536-a99e-4da...|Rustic American F...|I offer a no-risk...|           305|    Wall Canvas Mall|American Flag Pai...|            image|https://i.pinimg....|    /data/art|     art|\n",
      "| 11|98e412ff-966f-471...|    Mouth Turnaround|    Mouth Turnaround|        503000|      Cut Out + Keep|Drawing Technique...|            image|https://i.pinimg....|    /data/art|     art|\n",
      "| 12|8941490c-96bb-4ef...|Thankful For My F...|Botanical Muse La...|        217000|      iHeartDogs.com|Love Painting,Art...|            image|https://i.pinimg....|    /data/art|     art|\n",
      "| 13|161f37b7-fdff-4d0...|How to Draw a But...|How to draw a but...|         48000|Jasmine | Feeling...|Easy Doodles Draw...|            image|https://i.pinimg....|    /data/art|     art|\n",
      "| 14|54ecbed0-839e-48f...|This Is What Anxi...|  You are not alone.|       5000000|            BuzzFeed|Sad Drawings,Dark...|            image|https://i.pinimg....|    /data/art|     art|\n",
      "| 15|57d1241d-9f62-426...|Poinsettia Flower...|In this Poinsetti...|          4000|     Leah Newton Art|Advent For Kids,W...|            image|https://i.pinimg....|    /data/art|     art|\n",
      "| 16|40ebdf10-6cbb-48b...| How to Draw a Llama|Flow Drawing for ...|        252000|    Arty Crafty Kids|Art Drawings For ...|            video|https://i.pinimg....|    /data/art|     art|\n",
      "| 17|599e1538-7ede-415...|Art Drawings Sket...|No description av...|            89|          Kate Smith|Art Drawings Sket...|            image|https://i.pinimg....|    /data/art|     art|\n",
      "| 18|a206b7b7-ec60-45d...|Aquarium Perspect...|Middle School stu...|          4000|     Leah Newton Art|Art Lessons For K...|            image|https://i.pinimg....|    /data/art|     art|\n",
      "| 19|b6dbadf6-a58e-4f8...|4th & 5th grade B...|4th & 5th grade B...|         13000|Elements of the A...|Christmas Art Pro...|            image|https://i.pinimg....|    /data/art|     art|\n",
      "+---+--------------------+--------------------+--------------------+--------------+--------------------+--------------------+-----------------+--------------------+-------------+--------+\n",
      "only showing top 20 rows\n",
      "\n"
     ]
    }
   ],
   "source": [
    "df_pin_clean.show()"
   ]
  },
  {
   "cell_type": "code",
   "execution_count": null,
   "metadata": {},
   "outputs": [],
   "source": [
    "pd_df = geo_df_clean.toPandas()"
   ]
  },
  {
   "cell_type": "code",
   "execution_count": null,
   "metadata": {},
   "outputs": [],
   "source": [
    "from pyspark.sql.functions import array\n",
    "from pyspark.sql.functions import to_timestamp\n",
    "\n",
    "geo_df_new_column = geo_df.withColumn(\"coordinates\", concat(\"latitude\", \"longitude\"))\n",
    "geo_df_drop_column = geo_df_new_column.drop(\"latitude\", \"longitude\")\n",
    "geo_df_to_timestamp = geo_df_drop_column.withColumn(\"timestamp\", to_timestamp(\"timestamp\"))\n",
    "geo_df_clean = geo_df_to_timestamp.select(\"ind\", \"country\", \"coordinates\", \"timestamp\")"
   ]
  },
  {
   "cell_type": "code",
   "execution_count": null,
   "metadata": {},
   "outputs": [],
   "source": [
    "from pyspark.sql.functions import concat, lit\n",
    "from pyspark.sql.functions import to_timestamp\n",
    "\n",
    "user_df_concat_names = user_df.withColumn(\"user_name\", concat(\"first_name\", lit(\" \"), \"last_name\"))\n",
    "user_df_drop_col = user_df_concat_names.drop(\"first_name\", \"last_name\")\n",
    "user_df_to_timestamp = user_df_drop_col.withColumn(\"date_joined\", to_timestamp(\"date_joined\"))\n",
    "user_df_clean = user_df_to_timestamp.select(\"ind\", \"user_name\", \"age\", \"date_joined\")"
   ]
  },
  {
   "cell_type": "code",
   "execution_count": null,
   "metadata": {},
   "outputs": [
    {
     "data": {
      "text/plain": [
       "11154"
      ]
     },
     "execution_count": 35,
     "metadata": {},
     "output_type": "execute_result"
    }
   ],
   "source": [
    "localengine = sqlalchemy.create_engine(\"sqlite:///pint_db.db\")\n",
    "pd_df.to_sql('geo_df', localengine, if_exists='replace')"
   ]
  }
 ],
 "metadata": {
  "kernelspec": {
   "display_name": "Pinterest_project_env",
   "language": "python",
   "name": "python3"
  },
  "language_info": {
   "codemirror_mode": {
    "name": "ipython",
    "version": 3
   },
   "file_extension": ".py",
   "mimetype": "text/x-python",
   "name": "python",
   "nbconvert_exporter": "python",
   "pygments_lexer": "ipython3",
   "version": "3.11.8"
  }
 },
 "nbformat": 4,
 "nbformat_minor": 2
}
