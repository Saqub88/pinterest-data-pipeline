{
 "cells": [
  {
   "cell_type": "code",
   "execution_count": 5,
   "metadata": {},
   "outputs": [],
   "source": [
    "import requests\n",
    "from time import sleep\n",
    "import random\n",
    "import json\n",
    "import yaml\n",
    "import sqlalchemy\n",
    "from sqlalchemy import text\n",
    "import pandas as pd\n",
    "from datetime import datetime\n",
    "\n",
    "random.seed(100)"
   ]
  },
  {
   "cell_type": "code",
   "execution_count": 8,
   "metadata": {},
   "outputs": [],
   "source": [
    "class AWSDBConnector:\n",
    "\n",
    "    def __init__(self):\n",
    "        \n",
    "        self.database_credentials = None\n",
    "        self.engine = None\n",
    "    \n",
    "    \n",
    "    def read_db_creds(self, credential_file):\n",
    "        with open(credential_file, 'r') as file:\n",
    "            self.database_credentials = yaml.safe_load(file)\n",
    "\n",
    "    \n",
    "    def init_db_engine(self):\n",
    "        self.engine = sqlalchemy.create_engine(\n",
    "            f\"mysql+pymysql://{self.database_credentials['USER']}\"\n",
    "            f\":{self.database_credentials['PASSWORD']}\"\n",
    "            f\"@{self.database_credentials['HOST']}\"\n",
    "            f\":{self.database_credentials['PORT']}\"\n",
    "            f\"/{self.database_credentials['DATABASE']}?charset=utf8mb4\"\n",
    "        )\n",
    "\n",
    "new_connector = AWSDBConnector()\n",
    "new_connector.read_db_creds('Sensitive data/db_credentials.yaml')\n",
    "new_connector.init_db_engine()\n"
   ]
  },
  {
   "cell_type": "code",
   "execution_count": 9,
   "metadata": {},
   "outputs": [],
   "source": [
    "def function(sql_querry):\n",
    "        with new_connector.engine.connect() as connection:\n",
    "            pin_string = text(sql_querry)\n",
    "            pin_result = connection.execute(pin_string)\n",
    "            pin_db = pd.DataFrame(pin_result)\n",
    "            return pin_db.loc[0].to_json(date_format='iso')"
   ]
  },
  {
   "cell_type": "code",
   "execution_count": 10,
   "metadata": {},
   "outputs": [],
   "source": [
    "def post_api(topic, payload):\n",
    "    invoke_url = \"https://m1c8pv5ln1.execute-api.us-east-1.amazonaws.com/test/topics/\"\n",
    "    #headers = {'Content-Type': 'application/vnd.kafka.json.v2+json'}\n",
    "    request = requests.post(f\"{invoke_url}{topic}\", data=payload)\n",
    "    print(request.status_code)"
   ]
  },
  {
   "cell_type": "code",
   "execution_count": 11,
   "metadata": {},
   "outputs": [],
   "source": [
    "def run():\n",
    "#     while True:\n",
    "        sleep(random.randrange(0, 2))\n",
    "        random_row = random.randint(0, 11000)\n",
    "\n",
    "        with new_connector.engine.connect() as connection:\n",
    "            pin_result = function(f\"SELECT * FROM pinterest_data LIMIT {random_row}, 1\")\n",
    "            geo_result = function(f\"SELECT * FROM geolocation_data LIMIT {random_row}, 1\")\n",
    "            user_result = function(f\"SELECT * FROM user_data LIMIT {random_row}, 1\")\n",
    "\n",
    "            # post_api('0aa58e5ad07d.pin', pin_result)\n",
    "            # post_api('0aa58e5ad07d.geo', geo_result)\n",
    "            # post_api('0aa58e5ad07d.user', user_result)\n",
    "\n",
    "            print(pin_result)\n",
    "            print(geo_result)\n",
    "            print(user_result)\n",
    "\n",
    "            for item in pin_result:\n",
    "                 print(type(pin_result[item]))\n",
    "\n",
    "            print(type(pin_result))\n",
    "            print(type(geo_result))\n",
    "            print(type(user_result))"
   ]
  },
  {
   "cell_type": "code",
   "execution_count": 12,
   "metadata": {},
   "outputs": [
    {
     "name": "stdout",
     "output_type": "stream",
     "text": [
      "{\"index\":7528,\"unique_id\":\"fbe53c66-3442-4773-b19e-d3ec6f54dddf\",\"title\":\"No Title Data Available\",\"description\":\"No description available Story format\",\"poster_name\":\"User Info Error\",\"follower_count\":\"User Info Error\",\"tag_list\":\"N,o, ,T,a,g,s, ,A,v,a,i,l,a,b,l,e\",\"is_image_or_video\":\"multi-video(story page format)\",\"image_src\":\"Image src error.\",\"downloaded\":0,\"save_location\":\"Local save in \\/data\\/mens-fashion\",\"category\":\"mens-fashion\"}\n",
      "{\"ind\":7528,\"timestamp\":\"2020-08-28T03:52:47.000\",\"latitude\":-89.9787,\"longitude\":-173.293,\"country\":\"Albania\"}\n",
      "{\"ind\":7528,\"first_name\":\"Abigail\",\"last_name\":\"Ali\",\"age\":20,\"date_joined\":\"2015-10-24T11:23:51.000\"}\n"
     ]
    },
    {
     "ename": "TypeError",
     "evalue": "string indices must be integers, not 'str'",
     "output_type": "error",
     "traceback": [
      "\u001b[1;31m---------------------------------------------------------------------------\u001b[0m",
      "\u001b[1;31mTypeError\u001b[0m                                 Traceback (most recent call last)",
      "Cell \u001b[1;32mIn[12], line 1\u001b[0m\n\u001b[1;32m----> 1\u001b[0m \u001b[43mrun\u001b[49m\u001b[43m(\u001b[49m\u001b[43m)\u001b[49m\n",
      "Cell \u001b[1;32mIn[11], line 20\u001b[0m, in \u001b[0;36mrun\u001b[1;34m()\u001b[0m\n\u001b[0;32m     17\u001b[0m \u001b[38;5;28mprint\u001b[39m(user_result)\n\u001b[0;32m     19\u001b[0m \u001b[38;5;28;01mfor\u001b[39;00m item \u001b[38;5;129;01min\u001b[39;00m pin_result:\n\u001b[1;32m---> 20\u001b[0m      \u001b[38;5;28mprint\u001b[39m(\u001b[38;5;28mtype\u001b[39m(\u001b[43mpin_result\u001b[49m\u001b[43m[\u001b[49m\u001b[43mitem\u001b[49m\u001b[43m]\u001b[49m))\n\u001b[0;32m     22\u001b[0m \u001b[38;5;28mprint\u001b[39m(\u001b[38;5;28mtype\u001b[39m(pin_result))\n\u001b[0;32m     23\u001b[0m \u001b[38;5;28mprint\u001b[39m(\u001b[38;5;28mtype\u001b[39m(geo_result))\n",
      "\u001b[1;31mTypeError\u001b[0m: string indices must be integers, not 'str'"
     ]
    }
   ],
   "source": [
    "run()"
   ]
  },
  {
   "cell_type": "code",
   "execution_count": 13,
   "metadata": {},
   "outputs": [],
   "source": [
    "def run_infinite_post_data_loop():\n",
    "    #while True:\n",
    "        sleep(random.randrange(0, 2))\n",
    "        random_row = random.randint(0, 11000)\n",
    "\n",
    "        with new_connector.engine.connect() as connection:\n",
    "\n",
    "            pin_string = text(f\"SELECT * FROM pinterest_data LIMIT {random_row}, 1\")\n",
    "            pin_selected_row = connection.execute(pin_string)\n",
    "            \n",
    "            for row in pin_selected_row:\n",
    "                pin_result = row._mapping\n",
    "\n",
    "            geo_string = text(f\"SELECT * FROM geolocation_data LIMIT {random_row}, 1\")\n",
    "            geo_selected_row = connection.execute(geo_string)\n",
    "            \n",
    "            for row in geo_selected_row:\n",
    "                geo_result = dict(row._mapping)\n",
    "\n",
    "            user_string = text(f\"SELECT * FROM user_data LIMIT {random_row}, 1\")\n",
    "            user_selected_row = connection.execute(user_string)\n",
    "            \n",
    "            for row in user_selected_row:\n",
    "                user_result = dict(row._mapping)\n",
    "            \n",
    "           # print(pin_result)\n",
    "            print(geo_result)\n",
    "            #print(user_result)\n",
    "\n",
    "            #print(type(pin_result))\n",
    "            print(type(geo_result))\n",
    "            #print(type(user_result))\n",
    "\n",
    "            for item in geo_result:\n",
    "                print(type(geo_result[item]))\n",
    "                if type(geo_result[item]) == datetime:\n",
    "                    print(geo_result[item])\n",
    "                    geo_result[item] = str(geo_result[item])\n",
    "                    print(geo_result[item])\n",
    "                    print(type(geo_result[item]))\n",
    "                    print(type(geo_result))\n",
    "            \n",
    "            for item in pin_result:\n",
    "                 print(type(pin_result[item]))\n",
    "            for item in user_result:\n",
    "                 print(type(user_result[item]))\n",
    "            \n",
    "\n"
   ]
  },
  {
   "cell_type": "code",
   "execution_count": 14,
   "metadata": {},
   "outputs": [
    {
     "name": "stdout",
     "output_type": "stream",
     "text": [
      "{'ind': 2863, 'timestamp': datetime.datetime(2020, 4, 27, 13, 34, 16), 'latitude': -5.34445, 'longitude': -177.924, 'country': 'Armenia'}\n",
      "<class 'dict'>\n",
      "<class 'int'>\n",
      "<class 'datetime.datetime'>\n",
      "2020-04-27 13:34:16\n",
      "2020-04-27 13:34:16\n",
      "<class 'str'>\n",
      "<class 'dict'>\n",
      "<class 'float'>\n",
      "<class 'float'>\n",
      "<class 'str'>\n",
      "<class 'int'>\n",
      "<class 'str'>\n",
      "<class 'str'>\n",
      "<class 'str'>\n",
      "<class 'str'>\n",
      "<class 'str'>\n",
      "<class 'str'>\n",
      "<class 'str'>\n",
      "<class 'str'>\n",
      "<class 'int'>\n",
      "<class 'str'>\n",
      "<class 'str'>\n",
      "<class 'int'>\n",
      "<class 'str'>\n",
      "<class 'str'>\n",
      "<class 'int'>\n",
      "<class 'datetime.datetime'>\n"
     ]
    }
   ],
   "source": [
    "run_infinite_post_data_loop()"
   ]
  },
  {
   "cell_type": "code",
   "execution_count": 16,
   "metadata": {},
   "outputs": [],
   "source": [
    "with new_connector.engine.connect() as connection:\n",
    "    pin_string = text(f\"SELECT * FROM pinterest_data LIMIT 5, 1\")\n",
    "    pin_selected_row = connection.execute(pin_string)\n",
    "    pd_pin = pd.DataFrame(pin_selected_row)"
   ]
  },
  {
   "cell_type": "code",
   "execution_count": 21,
   "metadata": {},
   "outputs": [
    {
     "data": {
      "text/html": [
       "<div>\n",
       "<style scoped>\n",
       "    .dataframe tbody tr th:only-of-type {\n",
       "        vertical-align: middle;\n",
       "    }\n",
       "\n",
       "    .dataframe tbody tr th {\n",
       "        vertical-align: top;\n",
       "    }\n",
       "\n",
       "    .dataframe thead th {\n",
       "        text-align: right;\n",
       "    }\n",
       "</style>\n",
       "<table border=\"1\" class=\"dataframe\">\n",
       "  <thead>\n",
       "    <tr style=\"text-align: right;\">\n",
       "      <th></th>\n",
       "      <th>index</th>\n",
       "      <th>unique_id</th>\n",
       "      <th>title</th>\n",
       "      <th>description</th>\n",
       "      <th>poster_name</th>\n",
       "      <th>follower_count</th>\n",
       "      <th>tag_list</th>\n",
       "      <th>is_image_or_video</th>\n",
       "      <th>image_src</th>\n",
       "      <th>downloaded</th>\n",
       "      <th>save_location</th>\n",
       "      <th>category</th>\n",
       "    </tr>\n",
       "  </thead>\n",
       "  <tbody>\n",
       "    <tr>\n",
       "      <th>0</th>\n",
       "      <td>5</td>\n",
       "      <td>08fabbb2-8b80-41e8-871c-759837ed816f</td>\n",
       "      <td>Bulgarian Artist Makes Incredible Illustration...</td>\n",
       "      <td>It doesn't matter if you use a pencil, a crayo...</td>\n",
       "      <td>Bored Panda</td>\n",
       "      <td>2M</td>\n",
       "      <td>Girl Drawing Sketches,Pencil Art Drawings,Cool...</td>\n",
       "      <td>image</td>\n",
       "      <td>https://i.pinimg.com/originals/5f/38/b0/5f38b0...</td>\n",
       "      <td>1</td>\n",
       "      <td>Local save in /data/art</td>\n",
       "      <td>art</td>\n",
       "    </tr>\n",
       "  </tbody>\n",
       "</table>\n",
       "</div>"
      ],
      "text/plain": [
       "   index                             unique_id  \\\n",
       "0      5  08fabbb2-8b80-41e8-871c-759837ed816f   \n",
       "\n",
       "                                               title  \\\n",
       "0  Bulgarian Artist Makes Incredible Illustration...   \n",
       "\n",
       "                                         description  poster_name  \\\n",
       "0  It doesn't matter if you use a pencil, a crayo...  Bored Panda   \n",
       "\n",
       "  follower_count                                           tag_list  \\\n",
       "0             2M  Girl Drawing Sketches,Pencil Art Drawings,Cool...   \n",
       "\n",
       "  is_image_or_video                                          image_src  \\\n",
       "0             image  https://i.pinimg.com/originals/5f/38/b0/5f38b0...   \n",
       "\n",
       "   downloaded            save_location category  \n",
       "0           1  Local save in /data/art      art  "
      ]
     },
     "execution_count": 21,
     "metadata": {},
     "output_type": "execute_result"
    }
   ],
   "source": [
    "pd_pin.head()"
   ]
  },
  {
   "cell_type": "code",
   "execution_count": 32,
   "metadata": {},
   "outputs": [
    {
     "name": "stdout",
     "output_type": "stream",
     "text": [
      "422\n",
      "{'error_code': 422, 'message': 'Unrecognized field: unique_id'}\n"
     ]
    }
   ],
   "source": [
    "invoke_url = \"https://m1c8pv5ln1.execute-api.us-east-1.amazonaws.com/test/topics/0aa58e5ad07d.user\"\n",
    "payload = pin_json\n",
    "headers = {'Content-Type': 'application/vnd.kafka.json.v2+json'}\n",
    "response = requests.request(\"POST\", invoke_url, headers=headers, data=payload)\n",
    "\n",
    "print(response.status_code)\n",
    "print(response.json())\n"
   ]
  },
  {
   "cell_type": "code",
   "execution_count": 3,
   "metadata": {},
   "outputs": [],
   "source": [
    "test_dict = {'index': 2386, 'unique_id': '38c3e021-527e-4da6-8d43-c0aa07500d12', 'title': 'Christmas Five Senses Book', 'description': 'The sights, sounds and smells of Christmas stay with many of us for a lifetime. Perhaps cinnamon in your nasal cavity automatically takes you back to Grandma’s kitchen. Or at th…\\xa0', 'poster_name': \"Life Over C's\", 'follower_count': '79k', 'tag_list': 'Christmas Books,Christmas Themes,Kids Christmas,Xmas,Christmas Projects,Preschool Christmas Crafts,Christmas Activities,Kindergarten Christmas,Winter Activities', 'is_image_or_video': 'image', 'image_src': 'https://i.pinimg.com/originals/3f/f7/54/3ff754d879c31507d1dc78104af06a63.jpg', 'downloaded': 1, 'save_location': 'Local save in /data/christmas', 'category': 'christmas'}"
   ]
  },
  {
   "cell_type": "code",
   "execution_count": 6,
   "metadata": {},
   "outputs": [],
   "source": [
    "test_json = json.dumps(test_dict)"
   ]
  },
  {
   "cell_type": "code",
   "execution_count": 7,
   "metadata": {},
   "outputs": [
    {
     "name": "stdout",
     "output_type": "stream",
     "text": [
      "{\"index\": 2386, \"unique_id\": \"38c3e021-527e-4da6-8d43-c0aa07500d12\", \"title\": \"Christmas Five Senses Book\", \"description\": \"The sights, sounds and smells of Christmas stay with many of us for a lifetime. Perhaps cinnamon in your nasal cavity automatically takes you back to Grandma\\u2019s kitchen. Or at th\\u2026\\u00a0\", \"poster_name\": \"Life Over C's\", \"follower_count\": \"79k\", \"tag_list\": \"Christmas Books,Christmas Themes,Kids Christmas,Xmas,Christmas Projects,Preschool Christmas Crafts,Christmas Activities,Kindergarten Christmas,Winter Activities\", \"is_image_or_video\": \"image\", \"image_src\": \"https://i.pinimg.com/originals/3f/f7/54/3ff754d879c31507d1dc78104af06a63.jpg\", \"downloaded\": 1, \"save_location\": \"Local save in /data/christmas\", \"category\": \"christmas\"}\n",
      "<class 'str'>\n"
     ]
    }
   ],
   "source": [
    "print(test_json)\n",
    "print(type(test_json))"
   ]
  }
 ],
 "metadata": {
  "kernelspec": {
   "display_name": "Pinterest_project_env",
   "language": "python",
   "name": "python3"
  },
  "language_info": {
   "codemirror_mode": {
    "name": "ipython",
    "version": 3
   },
   "file_extension": ".py",
   "mimetype": "text/x-python",
   "name": "python",
   "nbconvert_exporter": "python",
   "pygments_lexer": "ipython3",
   "version": "3.11.7"
  }
 },
 "nbformat": 4,
 "nbformat_minor": 2
}
